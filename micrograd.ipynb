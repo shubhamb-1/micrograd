{
 "cells": [
  {
   "cell_type": "code",
   "execution_count": 1,
   "id": "2475b7f2",
   "metadata": {},
   "outputs": [],
   "source": [
    "from graphviz import Digraph\n",
    "import math"
   ]
  },
  {
   "cell_type": "code",
   "execution_count": 2,
   "id": "67e6cd04",
   "metadata": {},
   "outputs": [],
   "source": [
    "def trace(root):\n",
    "    nodes, edges = set(), set()\n",
    "    def build(v):\n",
    "        if v not in nodes:\n",
    "            nodes.add(v)\n",
    "            for child in v._prev:\n",
    "                edges.add((child, v))\n",
    "                build(child)\n",
    "    build(root)\n",
    "    return nodes, edges\n",
    "\n",
    "def draw_dot(root, format='svg', rankdir='LR'):\n",
    "    \"\"\"\n",
    "    format: png | svg | ...\n",
    "    rankdir: TB (top to bottom graph) | LR (left to right)\n",
    "    \"\"\"\n",
    "    assert rankdir in ['LR', 'TB']\n",
    "    nodes, edges = trace(root)\n",
    "    dot = Digraph(format=format, graph_attr={'rankdir': rankdir}) #, node_attr={'rankdir': 'TB'})\n",
    "    \n",
    "    for n in nodes:\n",
    "        dot.node(name=str(id(n)), label = \"{ %s | data %.4f | grad %.4f }\" % (n.label,n.data, n.grad), shape='record')\n",
    "        if n._op:\n",
    "            dot.node(name=str(id(n)) + n._op, label=n._op)\n",
    "            dot.edge(str(id(n)) + n._op, str(id(n)))\n",
    "    \n",
    "    for n1, n2 in edges:\n",
    "        dot.edge(str(id(n1)), str(id(n2)) + n2._op)\n",
    "    \n",
    "    return dot"
   ]
  },
  {
   "cell_type": "code",
   "execution_count": 3,
   "id": "2037e06f",
   "metadata": {},
   "outputs": [],
   "source": [
    "class Value:\n",
    "    #Unlike Torch Autograd which works with Vector Micrograd Value Class Takes Scaler Values\n",
    "    def __init__(self,data,_children=(),_op=''):\n",
    "        self.data = data\n",
    "        self._prev = set(_children)\n",
    "        self._op = _op\n",
    "        self.grad = 0\n",
    "        self._backward = lambda : None\n",
    "        self.label = ''\n",
    "    \n",
    "    def __repr__(self):\n",
    "        #return (f\"Value is {self.data}, grad is {self.grad}\")\n",
    "        return (f\"Value(data={self.data})\")\n",
    "        \n",
    "    def __add__(self,other):\n",
    "        other = other if isinstance(other,Value) else Value(other)\n",
    "        out = Value(self.data+other.data,(self,other),'+')\n",
    "        \n",
    "        def _backward():\n",
    "            self.grad += out.grad\n",
    "            other.grad += out.grad\n",
    "        \n",
    "        out._backward = _backward\n",
    "        \n",
    "        return out\n",
    "    \n",
    "    def __mul__(self,other):\n",
    "        other = other if isinstance(other,Value) else Value(other)\n",
    "        out = Value(self.data*other.data,(self,other),'*')\n",
    "        \n",
    "        def _backward():\n",
    "            self.grad += other.data*out.grad\n",
    "            other.grad += self.data*out.grad\n",
    "        \n",
    "        out._backward = _backward\n",
    "        return out\n",
    "    \n",
    "    def __pow__(self,other):\n",
    "        assert isinstance(other,(int,float)),\"Only Supporting INT/FLOAT for now\"\n",
    "        out = Value(self.data**other,(self,),f\"**{other}\")\n",
    "        \n",
    "        def _backward():\n",
    "            self.grad += other*(self.data**other-1)*out.grad\n",
    "            \n",
    "        out._backward = _backward\n",
    "        return out\n",
    "    \n",
    "    def tanh(self):\n",
    "        x = self.data\n",
    "        t = (math.exp(2*x)-1)/(math.exp(2*x)+1) \n",
    "        out = Value(t,(self,),'tanh')\n",
    "        \n",
    "        def _backward():\n",
    "            self.grad += (1-t**2)*out.grad\n",
    "            \n",
    "        out._backward = _backward\n",
    "        return out\n",
    "        \n",
    "    def backward(self):\n",
    "\n",
    "        # topological order all of the children in the graph\n",
    "        topo = []\n",
    "        visited = set()\n",
    "        def build_topo(v):\n",
    "            if v not in visited:\n",
    "                visited.add(v)\n",
    "                for child in v._prev:\n",
    "                    build_topo(child)\n",
    "                topo.append(v)\n",
    "        build_topo(self)\n",
    "\n",
    "        # go one variable at a time and apply the chain rule to get its gradient\n",
    "        self.grad = 1\n",
    "        for v in reversed(topo):\n",
    "            v._backward()\n",
    "\n",
    "    \n",
    "    \n",
    "    def __neg__(self): #-self\n",
    "        return -1*self\n",
    "    \n",
    "    def __radd__(self,other): #1 + a\n",
    "        return self+other\n",
    "    \n",
    "    def __rmul__(self,other): #1 * a\n",
    "        return self*other\n",
    "    \n",
    "    def __sub__(self,other):  # a-b = a+__neg__(b)\n",
    "        return self+(-other)\n",
    "    \n",
    "    def __truediv__(self,other): # a / b\n",
    "        return self*other**-1\n",
    "    \n",
    "    def __rtruediv__(self,other): # other / self\n",
    "        return other*self**-1\n",
    "    \n",
    "    "
   ]
  },
  {
   "cell_type": "code",
   "execution_count": null,
   "id": "196984e7",
   "metadata": {},
   "outputs": [],
   "source": []
  },
  {
   "cell_type": "code",
   "execution_count": 4,
   "id": "c40fc1ac",
   "metadata": {},
   "outputs": [
    {
     "name": "stdout",
     "output_type": "stream",
     "text": [
      "Value(data=1.27)\n"
     ]
    }
   ],
   "source": [
    "a = Value(0.5);a.label=\"a\"\n",
    "b = Value(0.77);b.label=\"b\"\n",
    "c = a+b;c.label=\"c\"\n",
    "print(c)"
   ]
  },
  {
   "cell_type": "code",
   "execution_count": 5,
   "id": "ad041a46",
   "metadata": {},
   "outputs": [
    {
     "data": {
      "text/plain": [
       "'d'"
      ]
     },
     "execution_count": 5,
     "metadata": {},
     "output_type": "execute_result"
    }
   ],
   "source": [
    "d = c*a;d.label = \"d\"\n",
    "d\n",
    "d.label"
   ]
  },
  {
   "cell_type": "code",
   "execution_count": null,
   "id": "6cfeb53e",
   "metadata": {},
   "outputs": [],
   "source": []
  },
  {
   "cell_type": "code",
   "execution_count": 6,
   "id": "fa93857a",
   "metadata": {},
   "outputs": [
    {
     "data": {
      "image/svg+xml": [
       "<?xml version=\"1.0\" encoding=\"UTF-8\" standalone=\"no\"?>\n",
       "<!DOCTYPE svg PUBLIC \"-//W3C//DTD SVG 1.1//EN\"\n",
       " \"http://www.w3.org/Graphics/SVG/1.1/DTD/svg11.dtd\">\n",
       "<!-- Generated by graphviz version 9.0.0 (20230911.1827)\n",
       " -->\n",
       "<!-- Pages: 1 -->\n",
       "<svg width=\"817pt\" height=\"100pt\"\n",
       " viewBox=\"0.00 0.00 817.25 100.00\" xmlns=\"http://www.w3.org/2000/svg\" xmlns:xlink=\"http://www.w3.org/1999/xlink\">\n",
       "<g id=\"graph0\" class=\"graph\" transform=\"scale(1 1) rotate(0) translate(4 96)\">\n",
       "<polygon fill=\"white\" stroke=\"none\" points=\"-4,4 -4,-96 813.25,-96 813.25,4 -4,4\"/>\n",
       "<!-- 2130423632528 -->\n",
       "<g id=\"node1\" class=\"node\">\n",
       "<title>2130423632528</title>\n",
       "<polygon fill=\"none\" stroke=\"black\" points=\"623.25,-31.5 623.25,-67.5 809.25,-67.5 809.25,-31.5 623.25,-31.5\"/>\n",
       "<text text-anchor=\"middle\" x=\"635\" y=\"-44.2\" font-family=\"Times New Roman,serif\" font-size=\"14.00\">d</text>\n",
       "<polyline fill=\"none\" stroke=\"black\" points=\"646.75,-31.75 646.75,-67.5\"/>\n",
       "<text text-anchor=\"middle\" x=\"687\" y=\"-44.2\" font-family=\"Times New Roman,serif\" font-size=\"14.00\">data 0.6350</text>\n",
       "<polyline fill=\"none\" stroke=\"black\" points=\"727.25,-31.75 727.25,-67.5\"/>\n",
       "<text text-anchor=\"middle\" x=\"768.25\" y=\"-44.2\" font-family=\"Times New Roman,serif\" font-size=\"14.00\">grad 0.0000</text>\n",
       "</g>\n",
       "<!-- 2130423632528* -->\n",
       "<g id=\"node2\" class=\"node\">\n",
       "<title>2130423632528*</title>\n",
       "<ellipse fill=\"none\" stroke=\"black\" cx=\"560.25\" cy=\"-49.5\" rx=\"27\" ry=\"18\"/>\n",
       "<text text-anchor=\"middle\" x=\"560.25\" y=\"-44.08\" font-family=\"Times New Roman,serif\" font-size=\"14.00\">*</text>\n",
       "</g>\n",
       "<!-- 2130423632528*&#45;&gt;2130423632528 -->\n",
       "<g id=\"edge1\" class=\"edge\">\n",
       "<title>2130423632528*&#45;&gt;2130423632528</title>\n",
       "<path fill=\"none\" stroke=\"black\" d=\"M587.72,-49.5C594.86,-49.5 603.03,-49.5 611.71,-49.5\"/>\n",
       "<polygon fill=\"black\" stroke=\"black\" points=\"611.44,-53 621.44,-49.5 611.44,-46 611.44,-53\"/>\n",
       "</g>\n",
       "<!-- 2130423630608 -->\n",
       "<g id=\"node3\" class=\"node\">\n",
       "<title>2130423630608</title>\n",
       "<polygon fill=\"none\" stroke=\"black\" points=\"312,-8.5 312,-44.5 497.25,-44.5 497.25,-8.5 312,-8.5\"/>\n",
       "<text text-anchor=\"middle\" x=\"323.38\" y=\"-21.2\" font-family=\"Times New Roman,serif\" font-size=\"14.00\">c</text>\n",
       "<polyline fill=\"none\" stroke=\"black\" points=\"334.75,-8.75 334.75,-44.5\"/>\n",
       "<text text-anchor=\"middle\" x=\"375\" y=\"-21.2\" font-family=\"Times New Roman,serif\" font-size=\"14.00\">data 1.2700</text>\n",
       "<polyline fill=\"none\" stroke=\"black\" points=\"415.25,-8.75 415.25,-44.5\"/>\n",
       "<text text-anchor=\"middle\" x=\"456.25\" y=\"-21.2\" font-family=\"Times New Roman,serif\" font-size=\"14.00\">grad 0.0000</text>\n",
       "</g>\n",
       "<!-- 2130423630608&#45;&gt;2130423632528* -->\n",
       "<g id=\"edge3\" class=\"edge\">\n",
       "<title>2130423630608&#45;&gt;2130423632528*</title>\n",
       "<path fill=\"none\" stroke=\"black\" d=\"M497.65,-40.28C506.29,-41.57 514.66,-42.82 522.3,-43.97\"/>\n",
       "<polygon fill=\"black\" stroke=\"black\" points=\"521.74,-47.42 532.15,-45.44 522.78,-40.5 521.74,-47.42\"/>\n",
       "</g>\n",
       "<!-- 2130423630608+ -->\n",
       "<g id=\"node4\" class=\"node\">\n",
       "<title>2130423630608+</title>\n",
       "<ellipse fill=\"none\" stroke=\"black\" cx=\"249\" cy=\"-26.5\" rx=\"27\" ry=\"18\"/>\n",
       "<text text-anchor=\"middle\" x=\"249\" y=\"-21.07\" font-family=\"Times New Roman,serif\" font-size=\"14.00\">+</text>\n",
       "</g>\n",
       "<!-- 2130423630608+&#45;&gt;2130423630608 -->\n",
       "<g id=\"edge2\" class=\"edge\">\n",
       "<title>2130423630608+&#45;&gt;2130423630608</title>\n",
       "<path fill=\"none\" stroke=\"black\" d=\"M276.41,-26.5C283.45,-26.5 291.5,-26.5 300.05,-26.5\"/>\n",
       "<polygon fill=\"black\" stroke=\"black\" points=\"300.04,-30 310.04,-26.5 300.04,-23 300.04,-30\"/>\n",
       "</g>\n",
       "<!-- 2130423627856 -->\n",
       "<g id=\"node5\" class=\"node\">\n",
       "<title>2130423627856</title>\n",
       "<polygon fill=\"none\" stroke=\"black\" points=\"0.75,-55.5 0.75,-91.5 185.25,-91.5 185.25,-55.5 0.75,-55.5\"/>\n",
       "<text text-anchor=\"middle\" x=\"11.75\" y=\"-68.2\" font-family=\"Times New Roman,serif\" font-size=\"14.00\">a</text>\n",
       "<polyline fill=\"none\" stroke=\"black\" points=\"22.75,-55.75 22.75,-91.5\"/>\n",
       "<text text-anchor=\"middle\" x=\"63\" y=\"-68.2\" font-family=\"Times New Roman,serif\" font-size=\"14.00\">data 0.5000</text>\n",
       "<polyline fill=\"none\" stroke=\"black\" points=\"103.25,-55.75 103.25,-91.5\"/>\n",
       "<text text-anchor=\"middle\" x=\"144.25\" y=\"-68.2\" font-family=\"Times New Roman,serif\" font-size=\"14.00\">grad 0.0000</text>\n",
       "</g>\n",
       "<!-- 2130423627856&#45;&gt;2130423632528* -->\n",
       "<g id=\"edge6\" class=\"edge\">\n",
       "<title>2130423627856&#45;&gt;2130423632528*</title>\n",
       "<path fill=\"none\" stroke=\"black\" d=\"M185.71,-69.34C267.46,-65.54 390.35,-59.6 497.25,-53.5 505.14,-53.05 513.58,-52.53 521.63,-52.02\"/>\n",
       "<polygon fill=\"black\" stroke=\"black\" points=\"521.75,-55.52 531.5,-51.38 521.29,-48.53 521.75,-55.52\"/>\n",
       "</g>\n",
       "<!-- 2130423627856&#45;&gt;2130423630608+ -->\n",
       "<g id=\"edge4\" class=\"edge\">\n",
       "<title>2130423627856&#45;&gt;2130423630608+</title>\n",
       "<path fill=\"none\" stroke=\"black\" d=\"M154.38,-55.14C164.92,-51.93 175.78,-48.62 186,-45.5 194.78,-42.82 204.26,-39.92 213.1,-37.21\"/>\n",
       "<polygon fill=\"black\" stroke=\"black\" points=\"213.88,-40.63 222.41,-34.35 211.83,-33.94 213.88,-40.63\"/>\n",
       "</g>\n",
       "<!-- 2130423628304 -->\n",
       "<g id=\"node6\" class=\"node\">\n",
       "<title>2130423628304</title>\n",
       "<polygon fill=\"none\" stroke=\"black\" points=\"0,-0.5 0,-36.5 186,-36.5 186,-0.5 0,-0.5\"/>\n",
       "<text text-anchor=\"middle\" x=\"11.75\" y=\"-13.2\" font-family=\"Times New Roman,serif\" font-size=\"14.00\">b</text>\n",
       "<polyline fill=\"none\" stroke=\"black\" points=\"23.5,-0.75 23.5,-36.5\"/>\n",
       "<text text-anchor=\"middle\" x=\"63.75\" y=\"-13.2\" font-family=\"Times New Roman,serif\" font-size=\"14.00\">data 0.7700</text>\n",
       "<polyline fill=\"none\" stroke=\"black\" points=\"104,-0.75 104,-36.5\"/>\n",
       "<text text-anchor=\"middle\" x=\"145\" y=\"-13.2\" font-family=\"Times New Roman,serif\" font-size=\"14.00\">grad 0.0000</text>\n",
       "</g>\n",
       "<!-- 2130423628304&#45;&gt;2130423630608+ -->\n",
       "<g id=\"edge5\" class=\"edge\">\n",
       "<title>2130423628304&#45;&gt;2130423630608+</title>\n",
       "<path fill=\"none\" stroke=\"black\" d=\"M186.25,-23.29C194.64,-23.73 202.78,-24.15 210.25,-24.54\"/>\n",
       "<polygon fill=\"black\" stroke=\"black\" points=\"210.05,-28.03 220.22,-25.06 210.42,-21.04 210.05,-28.03\"/>\n",
       "</g>\n",
       "</g>\n",
       "</svg>\n"
      ],
      "text/plain": [
       "<graphviz.graphs.Digraph at 0x1f00725da10>"
      ]
     },
     "execution_count": 6,
     "metadata": {},
     "output_type": "execute_result"
    }
   ],
   "source": [
    "draw_dot(d)"
   ]
  },
  {
   "cell_type": "code",
   "execution_count": 7,
   "id": "c043ff1e",
   "metadata": {},
   "outputs": [
    {
     "data": {
      "text/plain": [
       "Value(data=0.8537976531552436)"
      ]
     },
     "execution_count": 7,
     "metadata": {},
     "output_type": "execute_result"
    }
   ],
   "source": [
    "e = c.tanh();e.label='e'\n",
    "e"
   ]
  },
  {
   "cell_type": "code",
   "execution_count": 8,
   "id": "aff4307b",
   "metadata": {},
   "outputs": [
    {
     "data": {
      "image/svg+xml": [
       "<?xml version=\"1.0\" encoding=\"UTF-8\" standalone=\"no\"?>\n",
       "<!DOCTYPE svg PUBLIC \"-//W3C//DTD SVG 1.1//EN\"\n",
       " \"http://www.w3.org/Graphics/SVG/1.1/DTD/svg11.dtd\">\n",
       "<!-- Generated by graphviz version 9.0.0 (20230911.1827)\n",
       " -->\n",
       "<!-- Pages: 1 -->\n",
       "<svg width=\"816pt\" height=\"100pt\"\n",
       " viewBox=\"0.00 0.00 815.75 100.00\" xmlns=\"http://www.w3.org/2000/svg\" xmlns:xlink=\"http://www.w3.org/1999/xlink\">\n",
       "<g id=\"graph0\" class=\"graph\" transform=\"scale(1 1) rotate(0) translate(4 96)\">\n",
       "<polygon fill=\"white\" stroke=\"none\" points=\"-4,4 -4,-96 811.75,-96 811.75,4 -4,4\"/>\n",
       "<!-- 2130423630608 -->\n",
       "<g id=\"node1\" class=\"node\">\n",
       "<title>2130423630608</title>\n",
       "<polygon fill=\"none\" stroke=\"black\" points=\"312,-27.5 312,-63.5 497.25,-63.5 497.25,-27.5 312,-27.5\"/>\n",
       "<text text-anchor=\"middle\" x=\"323.38\" y=\"-40.2\" font-family=\"Times New Roman,serif\" font-size=\"14.00\">c</text>\n",
       "<polyline fill=\"none\" stroke=\"black\" points=\"334.75,-27.75 334.75,-63.5\"/>\n",
       "<text text-anchor=\"middle\" x=\"375\" y=\"-40.2\" font-family=\"Times New Roman,serif\" font-size=\"14.00\">data 1.2700</text>\n",
       "<polyline fill=\"none\" stroke=\"black\" points=\"415.25,-27.75 415.25,-63.5\"/>\n",
       "<text text-anchor=\"middle\" x=\"456.25\" y=\"-40.2\" font-family=\"Times New Roman,serif\" font-size=\"14.00\">grad 0.2710</text>\n",
       "</g>\n",
       "<!-- 2130423511760tanh -->\n",
       "<g id=\"node5\" class=\"node\">\n",
       "<title>2130423511760tanh</title>\n",
       "<ellipse fill=\"none\" stroke=\"black\" cx=\"560.25\" cy=\"-45.5\" rx=\"27\" ry=\"18\"/>\n",
       "<text text-anchor=\"middle\" x=\"560.25\" y=\"-40.08\" font-family=\"Times New Roman,serif\" font-size=\"14.00\">tanh</text>\n",
       "</g>\n",
       "<!-- 2130423630608&#45;&gt;2130423511760tanh -->\n",
       "<g id=\"edge3\" class=\"edge\">\n",
       "<title>2130423630608&#45;&gt;2130423511760tanh</title>\n",
       "<path fill=\"none\" stroke=\"black\" d=\"M497.65,-45.5C506.02,-45.5 514.14,-45.5 521.59,-45.5\"/>\n",
       "<polygon fill=\"black\" stroke=\"black\" points=\"521.53,-49 531.53,-45.5 521.53,-42 521.53,-49\"/>\n",
       "</g>\n",
       "<!-- 2130423630608+ -->\n",
       "<g id=\"node2\" class=\"node\">\n",
       "<title>2130423630608+</title>\n",
       "<ellipse fill=\"none\" stroke=\"black\" cx=\"249\" cy=\"-45.5\" rx=\"27\" ry=\"18\"/>\n",
       "<text text-anchor=\"middle\" x=\"249\" y=\"-40.08\" font-family=\"Times New Roman,serif\" font-size=\"14.00\">+</text>\n",
       "</g>\n",
       "<!-- 2130423630608+&#45;&gt;2130423630608 -->\n",
       "<g id=\"edge1\" class=\"edge\">\n",
       "<title>2130423630608+&#45;&gt;2130423630608</title>\n",
       "<path fill=\"none\" stroke=\"black\" d=\"M276.41,-45.5C283.45,-45.5 291.5,-45.5 300.05,-45.5\"/>\n",
       "<polygon fill=\"black\" stroke=\"black\" points=\"300.04,-49 310.04,-45.5 300.04,-42 300.04,-49\"/>\n",
       "</g>\n",
       "<!-- 2130423627856 -->\n",
       "<g id=\"node3\" class=\"node\">\n",
       "<title>2130423627856</title>\n",
       "<polygon fill=\"none\" stroke=\"black\" points=\"0.75,-55.5 0.75,-91.5 185.25,-91.5 185.25,-55.5 0.75,-55.5\"/>\n",
       "<text text-anchor=\"middle\" x=\"11.75\" y=\"-68.2\" font-family=\"Times New Roman,serif\" font-size=\"14.00\">a</text>\n",
       "<polyline fill=\"none\" stroke=\"black\" points=\"22.75,-55.75 22.75,-91.5\"/>\n",
       "<text text-anchor=\"middle\" x=\"63\" y=\"-68.2\" font-family=\"Times New Roman,serif\" font-size=\"14.00\">data 0.5000</text>\n",
       "<polyline fill=\"none\" stroke=\"black\" points=\"103.25,-55.75 103.25,-91.5\"/>\n",
       "<text text-anchor=\"middle\" x=\"144.25\" y=\"-68.2\" font-family=\"Times New Roman,serif\" font-size=\"14.00\">grad 0.2710</text>\n",
       "</g>\n",
       "<!-- 2130423627856&#45;&gt;2130423630608+ -->\n",
       "<g id=\"edge4\" class=\"edge\">\n",
       "<title>2130423627856&#45;&gt;2130423630608+</title>\n",
       "<path fill=\"none\" stroke=\"black\" d=\"M185.36,-56.89C194.5,-55.23 203.36,-53.62 211.4,-52.15\"/>\n",
       "<polygon fill=\"black\" stroke=\"black\" points=\"211.83,-55.63 221.04,-50.4 210.57,-48.75 211.83,-55.63\"/>\n",
       "</g>\n",
       "<!-- 2130423511760 -->\n",
       "<g id=\"node4\" class=\"node\">\n",
       "<title>2130423511760</title>\n",
       "<polygon fill=\"none\" stroke=\"black\" points=\"623.25,-27.5 623.25,-63.5 807.75,-63.5 807.75,-27.5 623.25,-27.5\"/>\n",
       "<text text-anchor=\"middle\" x=\"634.25\" y=\"-40.2\" font-family=\"Times New Roman,serif\" font-size=\"14.00\">e</text>\n",
       "<polyline fill=\"none\" stroke=\"black\" points=\"645.25,-27.75 645.25,-63.5\"/>\n",
       "<text text-anchor=\"middle\" x=\"685.5\" y=\"-40.2\" font-family=\"Times New Roman,serif\" font-size=\"14.00\">data 0.8538</text>\n",
       "<polyline fill=\"none\" stroke=\"black\" points=\"725.75,-27.75 725.75,-63.5\"/>\n",
       "<text text-anchor=\"middle\" x=\"766.75\" y=\"-40.2\" font-family=\"Times New Roman,serif\" font-size=\"14.00\">grad 1.0000</text>\n",
       "</g>\n",
       "<!-- 2130423511760tanh&#45;&gt;2130423511760 -->\n",
       "<g id=\"edge2\" class=\"edge\">\n",
       "<title>2130423511760tanh&#45;&gt;2130423511760</title>\n",
       "<path fill=\"none\" stroke=\"black\" d=\"M587.59,-45.5C594.76,-45.5 602.96,-45.5 611.69,-45.5\"/>\n",
       "<polygon fill=\"black\" stroke=\"black\" points=\"611.46,-49 621.46,-45.5 611.46,-42 611.46,-49\"/>\n",
       "</g>\n",
       "<!-- 2130423628304 -->\n",
       "<g id=\"node6\" class=\"node\">\n",
       "<title>2130423628304</title>\n",
       "<polygon fill=\"none\" stroke=\"black\" points=\"0,-0.5 0,-36.5 186,-36.5 186,-0.5 0,-0.5\"/>\n",
       "<text text-anchor=\"middle\" x=\"11.75\" y=\"-13.2\" font-family=\"Times New Roman,serif\" font-size=\"14.00\">b</text>\n",
       "<polyline fill=\"none\" stroke=\"black\" points=\"23.5,-0.75 23.5,-36.5\"/>\n",
       "<text text-anchor=\"middle\" x=\"63.75\" y=\"-13.2\" font-family=\"Times New Roman,serif\" font-size=\"14.00\">data 0.7700</text>\n",
       "<polyline fill=\"none\" stroke=\"black\" points=\"104,-0.75 104,-36.5\"/>\n",
       "<text text-anchor=\"middle\" x=\"145\" y=\"-13.2\" font-family=\"Times New Roman,serif\" font-size=\"14.00\">grad 0.2710</text>\n",
       "</g>\n",
       "<!-- 2130423628304&#45;&gt;2130423630608+ -->\n",
       "<g id=\"edge5\" class=\"edge\">\n",
       "<title>2130423628304&#45;&gt;2130423630608+</title>\n",
       "<path fill=\"none\" stroke=\"black\" d=\"M186.25,-34.67C195.01,-36.21 203.5,-37.7 211.24,-39.05\"/>\n",
       "<polygon fill=\"black\" stroke=\"black\" points=\"210.39,-42.46 220.84,-40.74 211.6,-35.56 210.39,-42.46\"/>\n",
       "</g>\n",
       "</g>\n",
       "</svg>\n"
      ],
      "text/plain": [
       "<graphviz.graphs.Digraph at 0x1f007153290>"
      ]
     },
     "execution_count": 8,
     "metadata": {},
     "output_type": "execute_result"
    }
   ],
   "source": [
    "e.backward()\n",
    "draw_dot(e)"
   ]
  },
  {
   "cell_type": "code",
   "execution_count": 9,
   "id": "e4f9b100",
   "metadata": {},
   "outputs": [
    {
     "data": {
      "text/plain": [
       "Value(data=0.8537976531552436)"
      ]
     },
     "execution_count": 9,
     "metadata": {},
     "output_type": "execute_result"
    }
   ],
   "source": [
    "e"
   ]
  },
  {
   "cell_type": "code",
   "execution_count": 10,
   "id": "b2078425",
   "metadata": {},
   "outputs": [],
   "source": [
    "import random"
   ]
  },
  {
   "cell_type": "code",
   "execution_count": 11,
   "id": "b52050ea",
   "metadata": {},
   "outputs": [],
   "source": [
    "class Neuron:\n",
    "    def __init__(self,nin):\n",
    "        self.w = [Value(random.uniform(-1,1)) for _ in range(nin)]\n",
    "        self.b = Value(random.uniform(-1,1))\n",
    "        \n",
    "    def __call__(self,x):\n",
    "        act = sum((wi*xi for xi,wi in zip(x,self.w)),self.b)\n",
    "        out = act.tanh()\n",
    "        return out\n",
    "    \n",
    "    def parameters(self):\n",
    "        return self.w + [self.b]\n",
    "    \n",
    "class Layer:\n",
    "    def __init__(self,nin,nout):\n",
    "        self.neurons = [Neuron(nin) for _ in range(nout)]\n",
    "        \n",
    "    def __call__(self,x):\n",
    "        outs = [n(x) for n in self.neurons]\n",
    "        return outs[0] if len(outs)==1 else outs\n",
    "    def parameters(self):\n",
    "        params = []\n",
    "        for neuron in self.neurons:\n",
    "            pms = neuron.parameters()\n",
    "            params.extend(pms)\n",
    "        return params\n",
    "    \n",
    "class MLP:\n",
    "    def __init__(self,nin,nouts):\n",
    "        sz = [nin] + nouts\n",
    "        self.layers = [Layer(sz[i],sz[i+1]) for i in range(len(nouts))]\n",
    "        \n",
    "    def __call__(self,x):\n",
    "        for layer in self.layers:\n",
    "            x = layer(x)\n",
    "        return x\n",
    "    \n",
    "    def parameters(self):\n",
    "        return [p for layer in self.layers for p in layer.parameters()]"
   ]
  },
  {
   "cell_type": "code",
   "execution_count": 61,
   "id": "d4674a33",
   "metadata": {},
   "outputs": [
    {
     "data": {
      "text/plain": [
       "Value(data=-0.68692470452849)"
      ]
     },
     "execution_count": 61,
     "metadata": {},
     "output_type": "execute_result"
    }
   ],
   "source": [
    "x=[2.0,3.0,-1.0]\n",
    "n=MLP(3,[4,4,1])\n",
    "n(x)\n"
   ]
  },
  {
   "cell_type": "code",
   "execution_count": 66,
   "id": "5eb9780d",
   "metadata": {},
   "outputs": [
    {
     "data": {
      "text/plain": [
       "[Value(data=-0.9944661071845466),\n",
       " Value(data=0.12026000699018644),\n",
       " Value(data=0.16794293379644518),\n",
       " Value(data=-0.9940706606438445)]"
      ]
     },
     "execution_count": 66,
     "metadata": {},
     "output_type": "execute_result"
    }
   ],
   "source": [
    "xs = [[2.0,3.0,-1.0],\n",
    "      [3.0,-1.0,0.5],\n",
    "      [0.5,1.0,1.0],\n",
    "      [1.0,1.0,-1.0]\n",
    "     ] #Input Vector\n",
    "ys = [1.0,-1.0,-1.0,1.0] #Desired Output\n",
    "ypred = [n(x) for x in xs]\n",
    "ypred"
   ]
  },
  {
   "cell_type": "code",
   "execution_count": 70,
   "id": "f3efd2ad",
   "metadata": {},
   "outputs": [
    {
     "name": "stdout",
     "output_type": "stream",
     "text": [
      "0 10.291165150853494\n",
      "1 9.64788922417268\n",
      "2 10.282353268004474\n",
      "3 9.65910282257182\n",
      "4 10.274406471740754\n",
      "5 9.669252428106136\n",
      "6 10.26723522914038\n",
      "7 9.6784538415694\n",
      "8 10.260754811362219\n",
      "9 9.686813951556227\n",
      "10 10.254885954926479\n",
      "11 9.69443075327901\n",
      "12 10.249555225371473\n",
      "13 9.701393546221219\n",
      "14 10.244695169842\n",
      "15 9.70778324348413\n",
      "16 10.240244322033611\n",
      "17 9.713672747234611\n",
      "18 10.236147104410355\n",
      "19 9.71912736089194\n"
     ]
    }
   ],
   "source": [
    "for i in range(20):\n",
    "    #Forward Pass and Loss Calculation\n",
    "    ypred = [n(x) for x in xs]\n",
    "    loss = sum((yp-yact)**2 for yp,yact in zip(ypred,ys))\n",
    "    \n",
    "    for p in n.parameters():\n",
    "        p.grad = 0.0\n",
    "    loss.backward()\n",
    "    \n",
    "    for p in n.parameters():\n",
    "        p.data += -0.05*p.grad\n",
    "    \n",
    "    print(i,loss.data)\n",
    "    "
   ]
  },
  {
   "cell_type": "code",
   "execution_count": 68,
   "id": "6e578ef4",
   "metadata": {},
   "outputs": [
    {
     "data": {
      "text/plain": [
       "[Value(data=-0.9965185907158568),\n",
       " Value(data=0.07845746513187048),\n",
       " Value(data=0.1450852249973347),\n",
       " Value(data=-0.99628943225123)]"
      ]
     },
     "execution_count": 68,
     "metadata": {},
     "output_type": "execute_result"
    }
   ],
   "source": [
    "ypred = [n(x) for x in xs]\n",
    "ypred"
   ]
  },
  {
   "cell_type": "code",
   "execution_count": null,
   "id": "bd2c13f8",
   "metadata": {},
   "outputs": [],
   "source": []
  }
 ],
 "metadata": {
  "kernelspec": {
   "display_name": "Python 3 (ipykernel)",
   "language": "python",
   "name": "python3"
  },
  "language_info": {
   "codemirror_mode": {
    "name": "ipython",
    "version": 3
   },
   "file_extension": ".py",
   "mimetype": "text/x-python",
   "name": "python",
   "nbconvert_exporter": "python",
   "pygments_lexer": "ipython3",
   "version": "3.11.5"
  }
 },
 "nbformat": 4,
 "nbformat_minor": 5
}
